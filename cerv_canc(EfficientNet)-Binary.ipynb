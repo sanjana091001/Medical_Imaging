{
 "cells": [
  {
   "cell_type": "code",
   "execution_count": 1,
   "id": "dd3c114a",
   "metadata": {},
   "outputs": [],
   "source": [
    "import numpy as np\n",
    "import cv2\n",
    "\n",
    "import PIL.Image as Image\n",
    "import os\n",
    "\n",
    "import matplotlib.pylab as plt\n",
    "\n",
    "import tensorflow as tf\n",
    "import tensorflow_hub as hub\n",
    "\n",
    "from tensorflow import keras\n",
    "from tensorflow.keras import layers\n",
    "from tensorflow.keras.models import Sequential"
   ]
  },
  {
   "cell_type": "code",
   "execution_count": 2,
   "id": "b6bf8526",
   "metadata": {},
   "outputs": [],
   "source": [
    "IMAGE_SHAPE=(224,224)"
   ]
  },
  {
   "cell_type": "code",
   "execution_count": 3,
   "id": "d008fb3a",
   "metadata": {},
   "outputs": [
    {
     "data": {
      "text/plain": [
       "PosixPath('/home/sanjana/Desktop/med_img/cervical-cancer2')"
      ]
     },
     "execution_count": 3,
     "metadata": {},
     "output_type": "execute_result"
    }
   ],
   "source": [
    "import pathlib\n",
    "data_dir=pathlib.Path(\"/home/sanjana/Desktop/med_img/cervical-cancer2\")\n",
    "data_dir"
   ]
  },
  {
   "cell_type": "code",
   "execution_count": 4,
   "id": "1a3c3ee9",
   "metadata": {},
   "outputs": [
    {
     "data": {
      "text/plain": [
       "2052"
      ]
     },
     "execution_count": 4,
     "metadata": {},
     "output_type": "execute_result"
    }
   ],
   "source": [
    "image_count=len(list(data_dir.glob('*/*jpg')))\n",
    "image_count"
   ]
  },
  {
   "cell_type": "code",
   "execution_count": null,
   "id": "a1f56ea1",
   "metadata": {},
   "outputs": [],
   "source": []
  },
  {
   "cell_type": "code",
   "execution_count": 5,
   "id": "c87aa0a9",
   "metadata": {},
   "outputs": [],
   "source": [
    "lesions_dict_bin={\n",
    "    'NILM': list(data_dir.glob('NILM/*')),\n",
    "    'Abnormal': list(data_dir.glob('ABNORMAL/*')),\n",
    "}"
   ]
  },
  {
   "cell_type": "code",
   "execution_count": 6,
   "id": "a79d19f0",
   "metadata": {},
   "outputs": [
    {
     "data": {
      "text/plain": [
       "350"
      ]
     },
     "execution_count": 6,
     "metadata": {},
     "output_type": "execute_result"
    }
   ],
   "source": [
    "len(lesions_dict_bin['Abnormal'])"
   ]
  },
  {
   "cell_type": "code",
   "execution_count": null,
   "id": "4605c37a",
   "metadata": {},
   "outputs": [],
   "source": []
  },
  {
   "cell_type": "code",
   "execution_count": 7,
   "id": "2cc0dfec",
   "metadata": {},
   "outputs": [],
   "source": [
    "lesions_labels_bin={\n",
    "    'NILM': 0,\n",
    "    'Abnormal': 1,\n",
    "}"
   ]
  },
  {
   "cell_type": "code",
   "execution_count": null,
   "id": "377548f4",
   "metadata": {},
   "outputs": [],
   "source": []
  },
  {
   "cell_type": "code",
   "execution_count": 8,
   "id": "54f5aa40",
   "metadata": {},
   "outputs": [],
   "source": [
    "xb, yb=[],[]\n",
    "for lesions_name, images in lesions_dict_bin.items():\n",
    "    for image in images:\n",
    "        img=cv2.imread(str(image))\n",
    "        xb.append(img)\n",
    "        yb.append(lesions_labels_bin[lesions_name])"
   ]
  },
  {
   "cell_type": "code",
   "execution_count": null,
   "id": "b2cc20b1",
   "metadata": {},
   "outputs": [],
   "source": []
  },
  {
   "cell_type": "code",
   "execution_count": 9,
   "id": "a5f9f8de",
   "metadata": {},
   "outputs": [],
   "source": [
    "xb=np.array(xb)\n",
    "yb=np.array(yb)"
   ]
  },
  {
   "cell_type": "code",
   "execution_count": null,
   "id": "c5d01d84",
   "metadata": {},
   "outputs": [],
   "source": []
  },
  {
   "cell_type": "code",
   "execution_count": 10,
   "id": "51501fd6",
   "metadata": {},
   "outputs": [],
   "source": [
    "from sklearn.model_selection import train_test_split\n",
    "x_trainb, x_testb, y_trainb, y_testb = train_test_split(xb, yb, test_size=0.2, random_state=1, shuffle=True)\n",
    "\n",
    "x_trainb, x_valb, y_trainb, y_valb = train_test_split(x_trainb, y_trainb, test_size=0.25, random_state=1) # 0.25 x 0.8 = 0.2"
   ]
  },
  {
   "cell_type": "code",
   "execution_count": null,
   "id": "2681f55a",
   "metadata": {},
   "outputs": [],
   "source": []
  },
  {
   "cell_type": "code",
   "execution_count": 11,
   "id": "db3700d2",
   "metadata": {},
   "outputs": [
    {
     "name": "stdout",
     "output_type": "stream",
     "text": [
      "576\n",
      "193\n",
      "193\n"
     ]
    }
   ],
   "source": [
    "x_train_scaledb=x_trainb/255\n",
    "x_test_scaledb=x_testb/255\n",
    "x_val_scaledb=x_valb/255\n",
    "print(len(x_train_scaledb))\n",
    "print(len(x_val_scaledb))\n",
    "print(len(x_test_scaledb))"
   ]
  },
  {
   "cell_type": "code",
   "execution_count": null,
   "id": "08b552e7",
   "metadata": {},
   "outputs": [],
   "source": []
  },
  {
   "cell_type": "code",
   "execution_count": 12,
   "id": "f50e2d2e",
   "metadata": {},
   "outputs": [],
   "source": [
    "classifier=\"https://tfhub.dev/tensorflow/efficientnet/lite0/feature-vector/2\"\n",
    "mod=hub.KerasLayer(classifier, input_shape=(224,224,3), trainable=False)"
   ]
  },
  {
   "cell_type": "code",
   "execution_count": 13,
   "id": "f3322d74",
   "metadata": {},
   "outputs": [],
   "source": [
    "from sklearn.model_selection import KFold"
   ]
  },
  {
   "cell_type": "code",
   "execution_count": 14,
   "id": "0fa7e00e",
   "metadata": {},
   "outputs": [],
   "source": [
    "num_lesions_bin=2\n",
    "from tensorflow.python.keras.callbacks import EarlyStopping\n",
    "es = EarlyStopping(monitor='loss', mode='min', verbose=1, patience=2)"
   ]
  },
  {
   "cell_type": "code",
   "execution_count": 15,
   "id": "f8bbabb0",
   "metadata": {},
   "outputs": [
    {
     "name": "stdout",
     "output_type": "stream",
     "text": [
      "------------------------------------------------------------------------\n",
      "Training for fold 1 ...\n",
      "Epoch 1/10\n",
      "29/29 [==============================] - 11s 293ms/step - loss: 0.2080 - acc: 0.9184\n",
      "Epoch 2/10\n",
      "29/29 [==============================] - 8s 288ms/step - loss: 0.0339 - acc: 0.9896\n",
      "Epoch 3/10\n",
      "29/29 [==============================] - 8s 290ms/step - loss: 0.0027 - acc: 1.0000\n",
      "Epoch 4/10\n",
      "29/29 [==============================] - 8s 291ms/step - loss: 4.7792e-04 - acc: 1.0000\n",
      "Epoch 5/10\n",
      "29/29 [==============================] - 9s 292ms/step - loss: 2.1764e-04 - acc: 1.0000\n",
      "Epoch 6/10\n",
      "29/29 [==============================] - 8s 291ms/step - loss: 1.2912e-04 - acc: 1.0000\n",
      "Epoch 7/10\n",
      "29/29 [==============================] - 8s 289ms/step - loss: 9.3814e-05 - acc: 1.0000\n",
      "Epoch 8/10\n",
      "29/29 [==============================] - 9s 293ms/step - loss: 6.9623e-05 - acc: 1.0000\n",
      "Epoch 9/10\n",
      "29/29 [==============================] - 8s 290ms/step - loss: 5.3516e-05 - acc: 1.0000\n",
      "Epoch 10/10\n",
      "29/29 [==============================] - 9s 308ms/step - loss: 4.2705e-05 - acc: 1.0000\n",
      "Score for fold 1: loss of 0.01174177136272192; acc of 99.481862783432%\n",
      "------------------------------------------------------------------------\n",
      "Training for fold 2 ...\n",
      "Epoch 1/10\n",
      "29/29 [==============================] - 9s 293ms/step - loss: 0.1674 - acc: 0.9392\n",
      "Epoch 2/10\n",
      "29/29 [==============================] - 9s 293ms/step - loss: 0.0071 - acc: 1.0000\n",
      "Epoch 3/10\n",
      "29/29 [==============================] - 9s 294ms/step - loss: 0.0025 - acc: 1.0000\n",
      "Epoch 4/10\n",
      "29/29 [==============================] - 8s 291ms/step - loss: 0.0013 - acc: 1.0000\n",
      "Epoch 5/10\n",
      "29/29 [==============================] - 9s 293ms/step - loss: 3.2642e-04 - acc: 1.0000\n",
      "Epoch 6/10\n",
      "29/29 [==============================] - 9s 292ms/step - loss: 1.5423e-04 - acc: 1.0000\n",
      "Epoch 7/10\n",
      "29/29 [==============================] - 9s 294ms/step - loss: 6.5423e-05 - acc: 1.0000\n",
      "Epoch 8/10\n",
      "29/29 [==============================] - 9s 294ms/step - loss: 4.9768e-05 - acc: 1.0000\n",
      "Epoch 9/10\n",
      "29/29 [==============================] - 9s 293ms/step - loss: 3.9847e-05 - acc: 1.0000\n",
      "Epoch 10/10\n",
      "29/29 [==============================] - 9s 292ms/step - loss: 3.4311e-05 - acc: 1.0000\n",
      "Score for fold 2: loss of 0.01081350352615118; acc of 99.481862783432%\n"
     ]
    }
   ],
   "source": [
    "\n",
    "import matplotlib.pyplot as plt\n",
    "acc_per_fold_bin=[]\n",
    "loss_per_fold_bin=[]\n",
    "# Define the K-fold Cross Validator\n",
    "kfold = KFold(n_splits=2, shuffle=True)\n",
    "\n",
    "# K-fold Cross Validation model evaluation\n",
    "fold_no = 1\n",
    "for train, test in kfold.split(x_train_scaledb, y_trainb):\n",
    "    model=tf.keras.Sequential([\n",
    "        mod, \n",
    "        tf.keras.layers.Dense(1024, activation=\"relu\"),\n",
    "        tf.keras.layers.Dense(512, activation=\"relu\"),\n",
    "        tf.keras.layers.Dense(num_lesions_bin)\n",
    "    ])\n",
    "\n",
    "    model.compile(\n",
    "        optimizer=\"adam\", \n",
    "        loss=tf.keras.losses.SparseCategoricalCrossentropy(from_logits=True),\n",
    "        metrics=['acc'])\n",
    "    print('------------------------------------------------------------------------')\n",
    "    print(f'Training for fold {fold_no} ...')\n",
    "    history = model.fit(x_train_scaledb, y_trainb, batch_size=20,epochs=10,callbacks = es)\n",
    "    scores = model.evaluate(x_val_scaledb, y_valb, verbose=0)\n",
    "    print(f'Score for fold {fold_no}: {model.metrics_names[0]} of {scores[0]}; {model.metrics_names[1]} of {scores[1]*100}%')\n",
    "    acc_per_fold_bin.append(scores[1] * 100)\n",
    "    loss_per_fold_bin.append(scores[0])\n",
    "    fold_no = fold_no + 1"
   ]
  },
  {
   "cell_type": "code",
   "execution_count": null,
   "id": "c0611d0a",
   "metadata": {},
   "outputs": [],
   "source": []
  },
  {
   "cell_type": "code",
   "execution_count": null,
   "id": "d92f6799",
   "metadata": {
    "scrolled": false
   },
   "outputs": [],
   "source": []
  },
  {
   "cell_type": "code",
   "execution_count": 16,
   "id": "38b45aa7",
   "metadata": {},
   "outputs": [
    {
     "ename": "KeyError",
     "evalue": "'val_acc'",
     "output_type": "error",
     "traceback": [
      "\u001b[0;31m---------------------------------------------------------------------------\u001b[0m",
      "\u001b[0;31mKeyError\u001b[0m                                  Traceback (most recent call last)",
      "\u001b[0;32m<ipython-input-16-2661688c08ef>\u001b[0m in \u001b[0;36m<module>\u001b[0;34m\u001b[0m\n\u001b[1;32m      1\u001b[0m \u001b[0mplt\u001b[0m\u001b[0;34m.\u001b[0m\u001b[0mplot\u001b[0m\u001b[0;34m(\u001b[0m\u001b[0mhistory\u001b[0m\u001b[0;34m.\u001b[0m\u001b[0mhistory\u001b[0m\u001b[0;34m[\u001b[0m\u001b[0;34m'acc'\u001b[0m\u001b[0;34m]\u001b[0m\u001b[0;34m)\u001b[0m\u001b[0;34m\u001b[0m\u001b[0;34m\u001b[0m\u001b[0m\n\u001b[0;32m----> 2\u001b[0;31m \u001b[0mplt\u001b[0m\u001b[0;34m.\u001b[0m\u001b[0mplot\u001b[0m\u001b[0;34m(\u001b[0m\u001b[0mhistory\u001b[0m\u001b[0;34m.\u001b[0m\u001b[0mhistory\u001b[0m\u001b[0;34m[\u001b[0m\u001b[0;34m'val_acc'\u001b[0m\u001b[0;34m]\u001b[0m\u001b[0;34m)\u001b[0m\u001b[0;34m\u001b[0m\u001b[0;34m\u001b[0m\u001b[0m\n\u001b[0m\u001b[1;32m      3\u001b[0m \u001b[0mplt\u001b[0m\u001b[0;34m.\u001b[0m\u001b[0mtitle\u001b[0m\u001b[0;34m(\u001b[0m\u001b[0;34m'model accuracy'\u001b[0m\u001b[0;34m)\u001b[0m\u001b[0;34m\u001b[0m\u001b[0;34m\u001b[0m\u001b[0m\n\u001b[1;32m      4\u001b[0m \u001b[0mplt\u001b[0m\u001b[0;34m.\u001b[0m\u001b[0mylabel\u001b[0m\u001b[0;34m(\u001b[0m\u001b[0;34m'accuracy'\u001b[0m\u001b[0;34m)\u001b[0m\u001b[0;34m\u001b[0m\u001b[0;34m\u001b[0m\u001b[0m\n\u001b[1;32m      5\u001b[0m \u001b[0mplt\u001b[0m\u001b[0;34m.\u001b[0m\u001b[0mxlabel\u001b[0m\u001b[0;34m(\u001b[0m\u001b[0;34m'epoch'\u001b[0m\u001b[0;34m)\u001b[0m\u001b[0;34m\u001b[0m\u001b[0;34m\u001b[0m\u001b[0m\n",
      "\u001b[0;31mKeyError\u001b[0m: 'val_acc'"
     ]
    },
    {
     "data": {
      "image/png": "[encoded data removed]",
      "text/plain": [
       "<Figure size 432x288 with 1 Axes>"
      ]
     },
     "metadata": {
      "needs_background": "light"
     },
     "output_type": "display_data"
    }
   ],
   "source": [
    "plt.plot(history.history['acc'])\n",
    "plt.plot(history.history['val_acc'])\n",
    "plt.title('model accuracy')\n",
    "plt.ylabel('accuracy')\n",
    "plt.xlabel('epoch')\n",
    "plt.legend(['train', 'test'], loc='upper left')\n",
    "plt.show()\n",
    "# summarize history for loss\n",
    "plt.plot(history.history['loss'])\n",
    "plt.plot(history.history['val_loss'])\n",
    "plt.title('model loss')\n",
    "plt.ylabel('loss')\n",
    "plt.xlabel('epoch')\n",
    "plt.legend(['train', 'test'], loc='upper left')\n",
    "plt.show()"
   ]
  },
  {
   "cell_type": "code",
   "execution_count": 17,
   "id": "1622eff5",
   "metadata": {},
   "outputs": [
    {
     "name": "stdout",
     "output_type": "stream",
     "text": [
      "7/7 [==============================] - 3s 388ms/step - loss: 0.0052 - acc: 0.9948\n"
     ]
    },
    {
     "data": {
      "text/plain": [
       "[0.0052468194626271725, 0.9948186278343201]"
      ]
     },
     "execution_count": 17,
     "metadata": {},
     "output_type": "execute_result"
    }
   ],
   "source": [
    "model.evaluate(x_test_scaledb, y_testb)"
   ]
  },
  {
   "cell_type": "code",
   "execution_count": 19,
   "id": "aab26612",
   "metadata": {},
   "outputs": [
    {
     "data": {
      "text/plain": [
       "array([0, 1, 0, 1, 0, 0, 1, 0, 0, 0, 0, 0, 0, 0, 1, 1, 0, 1, 1, 0, 0, 0,\n",
       "       0, 0, 0, 0, 0, 0, 0, 0, 1, 0, 0, 0, 0, 0, 0, 1, 0, 1, 1, 1, 0, 0,\n",
       "       0, 1, 0, 1, 0, 0, 0, 0, 1, 0, 0, 0, 1, 1, 1, 0, 0, 1, 0, 0, 0, 0,\n",
       "       0, 0, 0, 0, 0, 0, 1, 0, 0, 1, 1, 0, 1, 0, 1, 0, 1, 1, 0, 0, 0, 1,\n",
       "       0, 0, 1, 0, 1, 0, 1, 0, 1, 0, 1, 0, 1, 0, 1, 0, 1, 1, 0, 1, 0, 1,\n",
       "       0, 1, 1, 0, 0, 0, 0, 1, 0, 0, 1, 0, 1, 1, 0, 0, 1, 0, 0, 0, 1, 0,\n",
       "       0, 0, 0, 0, 0, 0, 0, 1, 0, 0, 0, 0, 0, 1, 1, 0, 0, 0, 0, 0, 1, 1,\n",
       "       0, 0, 0, 1, 0, 1, 0, 0, 1, 0, 1, 0, 0, 1, 1, 0, 0, 1, 0, 0, 1, 0,\n",
       "       0, 0, 0, 0, 1, 0, 0, 0, 1, 0, 1, 0, 0, 0, 0, 1, 1])"
      ]
     },
     "execution_count": 19,
     "metadata": {},
     "output_type": "execute_result"
    }
   ],
   "source": [
    "preds_b=model.predict(x_test_scaledb)\n",
    "pred_classesb=np.argmax(preds_b, axis=1)\n",
    "pred_classesb"
   ]
  },
  {
   "cell_type": "code",
   "execution_count": 20,
   "id": "425d7f40",
   "metadata": {},
   "outputs": [
    {
     "name": "stderr",
     "output_type": "stream",
     "text": [
      "/home/sanjana/anaconda3/lib/python3.7/site-packages/sklearn/utils/validation.py:72: FutureWarning: Pass labels=[0, 1, 2, 3] as keyword args. From version 1.0 (renaming of 0.25) passing these as positional arguments will result in an error\n",
      "  \"will result in an error\", FutureWarning)\n"
     ]
    },
    {
     "name": "stdout",
     "output_type": "stream",
     "text": [
      "              precision    recall  f1-score   support\n",
      "\n",
      "           0       0.98      0.99      0.98       127\n",
      "           1       0.90      1.00      0.95        47\n",
      "           2       0.94      0.85      0.89        39\n",
      "           3       1.00      0.95      0.97        58\n",
      "\n",
      "    accuracy                           0.96       271\n",
      "   macro avg       0.96      0.95      0.95       271\n",
      "weighted avg       0.96      0.96      0.96       271\n",
      "\n"
     ]
    },
    {
     "data": {
      "text/plain": [
       "array([[126,   1,   0,   0],\n",
       "       [  0,  47,   0,   0],\n",
       "       [  2,   4,  33,   0],\n",
       "       [  1,   0,   2,  55]])"
      ]
     },
     "execution_count": 20,
     "metadata": {},
     "output_type": "execute_result"
    }
   ],
   "source": [
    "class_labels=[0,1]\n",
    "import sklearn.metrics as metrics\n",
    "report = metrics.classification_report(y_testb, pred_classesb, class_labels)\n",
    "print(report) \n",
    "from sklearn.metrics import confusion_matrix\n",
    "confusion_matrix(y_test, pred_classes)"
   ]
  },
  {
   "cell_type": "code",
   "execution_count": null,
   "id": "d36dabcb",
   "metadata": {},
   "outputs": [],
   "source": []
  }
 ],
 "metadata": {
  "kernelspec": {
   "display_name": "Python 3",
   "language": "python",
   "name": "python3"
  },
  "language_info": {
   "codemirror_mode": {
    "name": "ipython",
    "version": 3
   },
   "file_extension": ".py",
   "mimetype": "text/x-python",
   "name": "python",
   "nbconvert_exporter": "python",
   "pygments_lexer": "ipython3",
   "version": "3.7.3"
  }
 },
 "nbformat": 4,
 "nbformat_minor": 5
}
