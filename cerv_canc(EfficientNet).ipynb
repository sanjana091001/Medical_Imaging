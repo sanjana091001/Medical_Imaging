{
 "cells": [
  {
   "cell_type": "code",
   "execution_count": 1,
   "id": "dd3c114a",
   "metadata": {},
   "outputs": [],
   "source": [
    "import numpy as np\n",
    "import cv2\n",
    "\n",
    "import PIL.Image as Image\n",
    "import os\n",
    "\n",
    "import matplotlib.pylab as plt\n",
    "\n",
    "import tensorflow as tf\n",
    "import tensorflow_hub as hub\n",
    "\n",
    "from tensorflow import keras\n",
    "from tensorflow.keras import layers\n",
    "from tensorflow.keras.models import Sequential"
   ]
  },
  {
   "cell_type": "code",
   "execution_count": 2,
   "id": "b6bf8526",
   "metadata": {},
   "outputs": [],
   "source": [
    "IMAGE_SHAPE=(224,224)"
   ]
  },
  {
   "cell_type": "code",
   "execution_count": 3,
   "id": "d008fb3a",
   "metadata": {},
   "outputs": [
    {
     "data": {
      "text/plain": [
       "PosixPath('/home/sanjana/Desktop/med_img/cervical-cancer2')"
      ]
     },
     "execution_count": 3,
     "metadata": {},
     "output_type": "execute_result"
    }
   ],
   "source": [
    "import pathlib\n",
    "data_dir=pathlib.Path(\"/home/sanjana/Desktop/med_img/cervical-cancer2\")\n",
    "data_dir"
   ]
  },
  {
   "cell_type": "code",
   "execution_count": 4,
   "id": "1a3c3ee9",
   "metadata": {},
   "outputs": [
    {
     "data": {
      "text/plain": [
       "2052"
      ]
     },
     "execution_count": 4,
     "metadata": {},
     "output_type": "execute_result"
    }
   ],
   "source": [
    "image_count=len(list(data_dir.glob('*/*jpg')))\n",
    "image_count"
   ]
  },
  {
   "cell_type": "code",
   "execution_count": 5,
   "id": "a1f56ea1",
   "metadata": {},
   "outputs": [],
   "source": [
    "lesions_dict={\n",
    "    'NILM': list(data_dir.glob('NILM/*')),\n",
    "    'LSIL': list(data_dir.glob('LSIL_new/*')),\n",
    "    'HSIL': list(data_dir.glob('HSIL_new/*')),\n",
    "    'SCC': list(data_dir.glob('SCC_new/*')),\n",
    "}"
   ]
  },
  {
   "cell_type": "code",
   "execution_count": null,
   "id": "e7294471",
   "metadata": {},
   "outputs": [],
   "source": []
  },
  {
   "cell_type": "code",
   "execution_count": null,
   "id": "a79d19f0",
   "metadata": {},
   "outputs": [],
   "source": []
  },
  {
   "cell_type": "code",
   "execution_count": 6,
   "id": "4605c37a",
   "metadata": {},
   "outputs": [],
   "source": [
    "lesions_labels={\n",
    "    'NILM': 0,\n",
    "    'LSIL': 1,\n",
    "    'HSIL': 2,\n",
    "    'SCC': 3,\n",
    "}"
   ]
  },
  {
   "cell_type": "code",
   "execution_count": null,
   "id": "8aba7100",
   "metadata": {},
   "outputs": [],
   "source": []
  },
  {
   "cell_type": "code",
   "execution_count": 7,
   "id": "377548f4",
   "metadata": {},
   "outputs": [],
   "source": [
    "x, y=[],[]\n",
    "for lesions_name, images in lesions_dict.items():\n",
    "    for image in images:\n",
    "        img=cv2.imread(str(image))\n",
    "        x.append(img)\n",
    "        y.append(lesions_labels[lesions_name])"
   ]
  },
  {
   "cell_type": "code",
   "execution_count": null,
   "id": "f2adf2cf",
   "metadata": {},
   "outputs": [],
   "source": []
  },
  {
   "cell_type": "code",
   "execution_count": 8,
   "id": "b2cc20b1",
   "metadata": {},
   "outputs": [],
   "source": [
    "x=np.array(x)\n",
    "y=np.array(y)"
   ]
  },
  {
   "cell_type": "code",
   "execution_count": null,
   "id": "a5f9f8de",
   "metadata": {},
   "outputs": [],
   "source": []
  },
  {
   "cell_type": "code",
   "execution_count": 9,
   "id": "c5d01d84",
   "metadata": {},
   "outputs": [],
   "source": [
    "from sklearn.model_selection import train_test_split\n",
    "x_train, x_test, y_train, y_test = train_test_split(x, y, test_size=0.2, random_state=1, shuffle=True)\n",
    "\n",
    "x_train, x_val, y_train, y_val = train_test_split(x_train, y_train, test_size=0.25, random_state=1) # 0.25 x 0.8 = 0.2"
   ]
  },
  {
   "cell_type": "code",
   "execution_count": null,
   "id": "6ed10193",
   "metadata": {},
   "outputs": [],
   "source": []
  },
  {
   "cell_type": "code",
   "execution_count": 10,
   "id": "2681f55a",
   "metadata": {},
   "outputs": [
    {
     "name": "stdout",
     "output_type": "stream",
     "text": [
      "810\n",
      "271\n",
      "271\n"
     ]
    }
   ],
   "source": [
    "x_train_scaled=x_train/255\n",
    "x_test_scaled=x_test/255\n",
    "x_val_scaled=x_val/255\n",
    "print(len(x_train_scaled))\n",
    "print(len(x_val_scaled))\n",
    "print(len(x_test_scaled))"
   ]
  },
  {
   "cell_type": "code",
   "execution_count": null,
   "id": "db3700d2",
   "metadata": {},
   "outputs": [],
   "source": []
  },
  {
   "cell_type": "code",
   "execution_count": null,
   "id": "08b552e7",
   "metadata": {},
   "outputs": [],
   "source": []
  },
  {
   "cell_type": "code",
   "execution_count": 13,
   "id": "f50e2d2e",
   "metadata": {},
   "outputs": [],
   "source": [
    "classifier=\"https://tfhub.dev/google/efficientnet/b0/feature-vector/1\"\n",
    "mod=hub.KerasLayer(classifier, input_shape=(224,224,3), trainable=False)"
   ]
  },
  {
   "cell_type": "code",
   "execution_count": 14,
   "id": "f3322d74",
   "metadata": {},
   "outputs": [],
   "source": [
    "from sklearn.model_selection import KFold"
   ]
  },
  {
   "cell_type": "code",
   "execution_count": null,
   "id": "0fa7e00e",
   "metadata": {},
   "outputs": [],
   "source": []
  },
  {
   "cell_type": "code",
   "execution_count": null,
   "id": "f8bbabb0",
   "metadata": {},
   "outputs": [],
   "source": []
  },
  {
   "cell_type": "code",
   "execution_count": 15,
   "id": "c0611d0a",
   "metadata": {},
   "outputs": [],
   "source": [
    "from tensorflow.python.keras.callbacks import EarlyStopping\n",
    "es = EarlyStopping(monitor='loss', mode='min', verbose=1, patience=2)"
   ]
  },
  {
   "cell_type": "code",
   "execution_count": 16,
   "id": "d92f6799",
   "metadata": {
    "scrolled": false
   },
   "outputs": [
    {
     "name": "stdout",
     "output_type": "stream",
     "text": [
      "------------------------------------------------------------------------\n",
      "Training for fold 1 ...\n",
      "Epoch 1/20\n",
      "41/41 [==============================] - 98s 2s/step - loss: 0.3784 - acc: 0.8506\n",
      "Epoch 2/20\n",
      "41/41 [==============================] - 23s 560ms/step - loss: 0.1016 - acc: 0.9679\n",
      "Epoch 3/20\n",
      "41/41 [==============================] - 37s 904ms/step - loss: 0.0463 - acc: 0.9840\n",
      "Epoch 4/20\n",
      "41/41 [==============================] - 23s 552ms/step - loss: 0.0434 - acc: 0.9840\n",
      "Epoch 5/20\n",
      "41/41 [==============================] - 31s 764ms/step - loss: 0.0236 - acc: 0.9914\n",
      "Epoch 6/20\n",
      "41/41 [==============================] - 22s 540ms/step - loss: 0.0102 - acc: 0.9963\n",
      "Epoch 7/20\n",
      "41/41 [==============================] - 22s 537ms/step - loss: 0.0087 - acc: 0.9951\n",
      "Epoch 8/20\n",
      "41/41 [==============================] - 22s 531ms/step - loss: 0.0063 - acc: 0.9988\n",
      "Epoch 9/20\n",
      "41/41 [==============================] - 22s 530ms/step - loss: 0.0254 - acc: 0.9864\n",
      "Epoch 10/20\n",
      "41/41 [==============================] - 22s 532ms/step - loss: 0.0053 - acc: 0.9988\n",
      "Epoch 11/20\n",
      "41/41 [==============================] - 22s 534ms/step - loss: 0.0017 - acc: 1.0000\n",
      "Epoch 12/20\n",
      "41/41 [==============================] - 22s 526ms/step - loss: 0.0013 - acc: 1.0000\n",
      "Epoch 13/20\n",
      "41/41 [==============================] - 22s 529ms/step - loss: 4.7027e-04 - acc: 1.0000\n",
      "Epoch 14/20\n",
      "41/41 [==============================] - 22s 533ms/step - loss: 3.8730e-04 - acc: 1.0000\n",
      "Epoch 15/20\n",
      "41/41 [==============================] - 22s 529ms/step - loss: 3.1614e-04 - acc: 1.0000\n",
      "Epoch 16/20\n",
      "41/41 [==============================] - 22s 534ms/step - loss: 2.9215e-04 - acc: 1.0000\n",
      "Epoch 17/20\n",
      "41/41 [==============================] - 22s 533ms/step - loss: 2.4346e-04 - acc: 1.0000\n",
      "Epoch 18/20\n",
      "41/41 [==============================] - 22s 528ms/step - loss: 2.2454e-04 - acc: 1.0000\n",
      "Epoch 19/20\n",
      "41/41 [==============================] - 22s 531ms/step - loss: 2.3262e-04 - acc: 1.0000\n",
      "Epoch 20/20\n",
      "41/41 [==============================] - 22s 530ms/step - loss: 1.7862e-04 - acc: 1.0000\n",
      "Score for fold 1: loss of 0.008128385990858078; acc of 99.63099360466003%\n",
      "------------------------------------------------------------------------\n",
      "Training for fold 2 ...\n",
      "Epoch 1/20\n",
      "41/41 [==============================] - 24s 530ms/step - loss: 0.3858 - acc: 0.8481\n",
      "Epoch 2/20\n",
      "41/41 [==============================] - 22s 539ms/step - loss: 0.1211 - acc: 0.9519\n",
      "Epoch 3/20\n",
      "41/41 [==============================] - 22s 529ms/step - loss: 0.0386 - acc: 0.9877\n",
      "Epoch 4/20\n",
      "41/41 [==============================] - 22s 537ms/step - loss: 0.0488 - acc: 0.9840\n",
      "Epoch 5/20\n",
      "41/41 [==============================] - 22s 528ms/step - loss: 0.0346 - acc: 0.9914\n",
      "Epoch 6/20\n",
      "41/41 [==============================] - 22s 526ms/step - loss: 0.0142 - acc: 0.9963\n",
      "Epoch 7/20\n",
      "41/41 [==============================] - 22s 532ms/step - loss: 0.0073 - acc: 0.9975\n",
      "Epoch 8/20\n",
      "41/41 [==============================] - 22s 528ms/step - loss: 0.0045 - acc: 0.9988\n",
      "Epoch 9/20\n",
      "41/41 [==============================] - 22s 525ms/step - loss: 0.0262 - acc: 0.9889\n",
      "Epoch 10/20\n",
      "41/41 [==============================] - 22s 530ms/step - loss: 0.0123 - acc: 0.9951\n",
      "Epoch 00010: early stopping\n",
      "Score for fold 2: loss of 0.02130335010588169; acc of 99.26199316978455%\n",
      "------------------------------------------------------------------------\n",
      "Training for fold 3 ...\n",
      "Epoch 1/20\n",
      "41/41 [==============================] - 35s 694ms/step - loss: 0.3821 - acc: 0.8420\n",
      "Epoch 2/20\n",
      "41/41 [==============================] - 24s 585ms/step - loss: 0.1020 - acc: 0.9642\n",
      "Epoch 3/20\n",
      "41/41 [==============================] - 24s 576ms/step - loss: 0.0475 - acc: 0.9840\n",
      "Epoch 4/20\n",
      "41/41 [==============================] - 21s 520ms/step - loss: 0.0223 - acc: 0.9926\n",
      "Epoch 5/20\n",
      "41/41 [==============================] - 22s 529ms/step - loss: 0.0234 - acc: 0.9926\n",
      "Epoch 6/20\n",
      "41/41 [==============================] - 22s 532ms/step - loss: 0.0208 - acc: 0.9926\n",
      "Epoch 7/20\n",
      "41/41 [==============================] - 25s 602ms/step - loss: 0.0184 - acc: 0.9951\n",
      "Epoch 8/20\n",
      "41/41 [==============================] - 30s 748ms/step - loss: 0.0091 - acc: 0.9963\n",
      "Epoch 9/20\n",
      "41/41 [==============================] - 25s 616ms/step - loss: 0.0252 - acc: 0.9938\n",
      "Epoch 10/20\n",
      "41/41 [==============================] - 22s 528ms/step - loss: 0.0039 - acc: 1.0000\n",
      "Epoch 11/20\n",
      "41/41 [==============================] - 22s 531ms/step - loss: 9.4958e-04 - acc: 1.0000\n",
      "Epoch 12/20\n",
      "41/41 [==============================] - 22s 533ms/step - loss: 0.0012 - acc: 1.0000\n",
      "Epoch 13/20\n",
      "41/41 [==============================] - 22s 527ms/step - loss: 4.6752e-04 - acc: 1.0000\n",
      "Epoch 14/20\n",
      "41/41 [==============================] - 22s 531ms/step - loss: 3.4466e-04 - acc: 1.0000\n",
      "Epoch 15/20\n",
      "41/41 [==============================] - 27s 525ms/step - loss: 2.7090e-04 - acc: 1.0000\n",
      "Epoch 16/20\n",
      "41/41 [==============================] - 22s 546ms/step - loss: 2.4222e-04 - acc: 1.0000\n",
      "Epoch 17/20\n",
      "41/41 [==============================] - 23s 549ms/step - loss: 2.0334e-04 - acc: 1.0000\n",
      "Epoch 18/20\n",
      "41/41 [==============================] - 21s 517ms/step - loss: 1.9086e-04 - acc: 1.0000\n",
      "Epoch 19/20\n",
      "41/41 [==============================] - 23s 556ms/step - loss: 1.6526e-04 - acc: 1.0000\n",
      "Epoch 20/20\n",
      "41/41 [==============================] - 37s 900ms/step - loss: 1.5627e-04 - acc: 1.0000\n",
      "Score for fold 3: loss of 0.01118855644017458; acc of 99.63099360466003%\n"
     ]
    }
   ],
   "source": [
    "import matplotlib.pyplot as plt\n",
    "acc_per_fold=[]\n",
    "loss_per_fold=[]\n",
    "num_lesions=4\n",
    "# Define the K-fold Cross Validator\n",
    "kfold = KFold(n_splits=3, shuffle=True)\n",
    "\n",
    "# K-fold Cross Validation model evaluation\n",
    "fold_no = 1\n",
    "for train, test in kfold.split(x_train_scaled, y_train):\n",
    "    model=tf.keras.Sequential([\n",
    "        mod, \n",
    "        tf.keras.layers.Dense(512, activation=\"relu\"),\n",
    "        tf.keras.layers.Dense(256, activation=\"relu\"),\n",
    "        tf.keras.layers.Dense(num_lesions)\n",
    "    ])\n",
    "\n",
    "    model.compile(\n",
    "        optimizer=\"adam\", \n",
    "        loss=tf.keras.losses.SparseCategoricalCrossentropy(from_logits=True),\n",
    "        metrics=['acc'])\n",
    "    print('------------------------------------------------------------------------')\n",
    "    print(f'Training for fold {fold_no} ...')\n",
    "    history = model.fit(x_train_scaled, y_train, batch_size=20,epochs=20,callbacks = es)\n",
    "    \n",
    "    scores = model.evaluate(x_val_scaled, y_val, verbose=0)\n",
    "    print(f'Score for fold {fold_no}: {model.metrics_names[0]} of {scores[0]}; {model.metrics_names[1]} of {scores[1]*100}%')\n",
    "    acc_per_fold.append(scores[1] * 100)\n",
    "    loss_per_fold.append(scores[0])\n",
    "    fold_no = fold_no + 1"
   ]
  },
  {
   "cell_type": "code",
   "execution_count": 17,
   "id": "38b45aa7",
   "metadata": {},
   "outputs": [
    {
     "ename": "KeyError",
     "evalue": "'val_acc'",
     "output_type": "error",
     "traceback": [
      "\u001b[0;31m---------------------------------------------------------------------------\u001b[0m",
      "\u001b[0;31mKeyError\u001b[0m                                  Traceback (most recent call last)",
      "\u001b[0;32m<ipython-input-17-2661688c08ef>\u001b[0m in \u001b[0;36m<module>\u001b[0;34m\u001b[0m\n\u001b[1;32m      1\u001b[0m \u001b[0mplt\u001b[0m\u001b[0;34m.\u001b[0m\u001b[0mplot\u001b[0m\u001b[0;34m(\u001b[0m\u001b[0mhistory\u001b[0m\u001b[0;34m.\u001b[0m\u001b[0mhistory\u001b[0m\u001b[0;34m[\u001b[0m\u001b[0;34m'acc'\u001b[0m\u001b[0;34m]\u001b[0m\u001b[0;34m)\u001b[0m\u001b[0;34m\u001b[0m\u001b[0;34m\u001b[0m\u001b[0m\n\u001b[0;32m----> 2\u001b[0;31m \u001b[0mplt\u001b[0m\u001b[0;34m.\u001b[0m\u001b[0mplot\u001b[0m\u001b[0;34m(\u001b[0m\u001b[0mhistory\u001b[0m\u001b[0;34m.\u001b[0m\u001b[0mhistory\u001b[0m\u001b[0;34m[\u001b[0m\u001b[0;34m'val_acc'\u001b[0m\u001b[0;34m]\u001b[0m\u001b[0;34m)\u001b[0m\u001b[0;34m\u001b[0m\u001b[0;34m\u001b[0m\u001b[0m\n\u001b[0m\u001b[1;32m      3\u001b[0m \u001b[0mplt\u001b[0m\u001b[0;34m.\u001b[0m\u001b[0mtitle\u001b[0m\u001b[0;34m(\u001b[0m\u001b[0;34m'model accuracy'\u001b[0m\u001b[0;34m)\u001b[0m\u001b[0;34m\u001b[0m\u001b[0;34m\u001b[0m\u001b[0m\n\u001b[1;32m      4\u001b[0m \u001b[0mplt\u001b[0m\u001b[0;34m.\u001b[0m\u001b[0mylabel\u001b[0m\u001b[0;34m(\u001b[0m\u001b[0;34m'accuracy'\u001b[0m\u001b[0;34m)\u001b[0m\u001b[0;34m\u001b[0m\u001b[0;34m\u001b[0m\u001b[0m\n\u001b[1;32m      5\u001b[0m \u001b[0mplt\u001b[0m\u001b[0;34m.\u001b[0m\u001b[0mxlabel\u001b[0m\u001b[0;34m(\u001b[0m\u001b[0;34m'epoch'\u001b[0m\u001b[0;34m)\u001b[0m\u001b[0;34m\u001b[0m\u001b[0;34m\u001b[0m\u001b[0m\n",
      "\u001b[0;31mKeyError\u001b[0m: 'val_acc'"
     ]
    },
    {
     "data": {
      "image/png": "[encoded data removed]",
      "text/plain": [
       "<Figure size 432x288 with 1 Axes>"
      ]
     },
     "metadata": {
      "needs_background": "light"
     },
     "output_type": "display_data"
    }
   ],
   "source": [
    "plt.plot(history.history['acc'])\n",
    "plt.plot(history.history['val_acc'])\n",
    "plt.title('model accuracy')\n",
    "plt.ylabel('accuracy')\n",
    "plt.xlabel('epoch')\n",
    "plt.legend(['train', 'test'], loc='upper left')\n",
    "plt.show()\n",
    "# summarize history for loss\n",
    "plt.plot(history.history['loss'])\n",
    "plt.plot(history.history['val_loss'])\n",
    "plt.title('model loss')\n",
    "plt.ylabel('loss')\n",
    "plt.xlabel('epoch')\n",
    "plt.legend(['train', 'test'], loc='upper left')\n",
    "plt.show()"
   ]
  },
  {
   "cell_type": "code",
   "execution_count": 18,
   "id": "1622eff5",
   "metadata": {},
   "outputs": [
    {
     "name": "stdout",
     "output_type": "stream",
     "text": [
      "9/9 [==============================] - 21s 1s/step - loss: 0.0199 - acc: 0.9963\n"
     ]
    },
    {
     "data": {
      "text/plain": [
       "[0.01994798146188259, 0.9963099360466003]"
      ]
     },
     "execution_count": 18,
     "metadata": {},
     "output_type": "execute_result"
    }
   ],
   "source": [
    "model.evaluate(x_test_scaled, y_test)"
   ]
  },
  {
   "cell_type": "code",
   "execution_count": 19,
   "id": "aab26612",
   "metadata": {},
   "outputs": [
    {
     "data": {
      "text/plain": [
       "array([1, 1, 0, 0, 2, 3, 3, 0, 3, 0, 2, 2, 0, 2, 3, 0, 2, 1, 2, 2, 1, 2,\n",
       "       1, 0, 0, 0, 1, 1, 0, 1, 0, 0, 3, 3, 3, 3, 3, 3, 0, 0, 0, 2, 0, 0,\n",
       "       0, 1, 1, 1, 0, 0, 3, 1, 3, 3, 3, 0, 0, 0, 1, 2, 1, 1, 2, 1, 0, 0,\n",
       "       3, 3, 3, 3, 2, 3, 3, 2, 0, 3, 3, 0, 0, 0, 1, 1, 0, 3, 3, 3, 0, 3,\n",
       "       1, 2, 3, 0, 3, 0, 0, 3, 0, 3, 3, 2, 0, 0, 3, 2, 0, 1, 1, 0, 2, 1,\n",
       "       0, 0, 0, 0, 0, 1, 0, 0, 2, 0, 0, 0, 0, 0, 0, 3, 0, 3, 1, 0, 0, 1,\n",
       "       1, 3, 0, 3, 3, 0, 1, 1, 0, 1, 2, 0, 0, 1, 0, 0, 0, 0, 0, 3, 2, 0,\n",
       "       3, 2, 0, 3, 3, 3, 0, 0, 2, 0, 2, 0, 0, 3, 2, 2, 2, 0, 1, 0, 3, 0,\n",
       "       3, 1, 0, 0, 0, 0, 1, 0, 0, 0, 3, 2, 2, 0, 1, 3, 0, 0, 0, 0, 2, 3,\n",
       "       2, 0, 0, 0, 1, 0, 2, 0, 3, 1, 2, 3, 3, 0, 0, 0, 1, 0, 0, 2, 3, 0,\n",
       "       1, 1, 3, 2, 0, 0, 1, 3, 0, 0, 3, 2, 0, 1, 1, 3, 0, 0, 1, 0, 2, 0,\n",
       "       0, 2, 1, 0, 0, 0, 0, 0, 3, 0, 0, 2, 0, 0, 2, 0, 0, 1, 1, 0, 0, 1,\n",
       "       3, 0, 0, 0, 0, 2, 0])"
      ]
     },
     "execution_count": 19,
     "metadata": {},
     "output_type": "execute_result"
    }
   ],
   "source": [
    "preds=model.predict(x_test_scaled)\n",
    "pred_classes=np.argmax(preds, axis=1)\n",
    "pred_classes"
   ]
  },
  {
   "cell_type": "code",
   "execution_count": 20,
   "id": "425d7f40",
   "metadata": {},
   "outputs": [
    {
     "name": "stderr",
     "output_type": "stream",
     "text": [
      "/home/sanjana/anaconda3/lib/python3.7/site-packages/sklearn/utils/validation.py:72: FutureWarning: Pass labels=[0, 1, 2, 3] as keyword args. From version 1.0 (renaming of 0.25) passing these as positional arguments will result in an error\n",
      "  \"will result in an error\", FutureWarning)\n"
     ]
    },
    {
     "name": "stdout",
     "output_type": "stream",
     "text": [
      "              precision    recall  f1-score   support\n",
      "\n",
      "           0       1.00      0.99      1.00       127\n",
      "           1       1.00      1.00      1.00        47\n",
      "           2       0.97      1.00      0.99        39\n",
      "           3       1.00      1.00      1.00        58\n",
      "\n",
      "    accuracy                           1.00       271\n",
      "   macro avg       0.99      1.00      1.00       271\n",
      "weighted avg       1.00      1.00      1.00       271\n",
      "\n"
     ]
    },
    {
     "data": {
      "text/plain": [
       "array([[126,   0,   1,   0],\n",
       "       [  0,  47,   0,   0],\n",
       "       [  0,   0,  39,   0],\n",
       "       [  0,   0,   0,  58]])"
      ]
     },
     "execution_count": 20,
     "metadata": {},
     "output_type": "execute_result"
    }
   ],
   "source": [
    "class_labels=[0,1,2,3]\n",
    "import sklearn.metrics as metrics\n",
    "report = metrics.classification_report(y_test, pred_classes, class_labels)\n",
    "print(report) \n",
    "from sklearn.metrics import confusion_matrix\n",
    "confusion_matrix(y_test, pred_classes)"
   ]
  },
  {
   "cell_type": "code",
   "execution_count": null,
   "id": "d36dabcb",
   "metadata": {},
   "outputs": [],
   "source": []
  }
 ],
 "metadata": {
  "kernelspec": {
   "display_name": "Python 3",
   "language": "python",
   "name": "python3"
  },
  "language_info": {
   "codemirror_mode": {
    "name": "ipython",
    "version": 3
   },
   "file_extension": ".py",
   "mimetype": "text/x-python",
   "name": "python",
   "nbconvert_exporter": "python",
   "pygments_lexer": "ipython3",
   "version": "3.7.3"
  }
 },
 "nbformat": 4,
 "nbformat_minor": 5
}
