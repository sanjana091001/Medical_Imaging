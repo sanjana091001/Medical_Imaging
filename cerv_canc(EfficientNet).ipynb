{
 "cells": [
  {
   "cell_type": "code",
   "execution_count": 1,
   "id": "dd3c114a",
   "metadata": {},
   "outputs": [],
   "source": [
    "import numpy as np\n",
    "import cv2\n",
    "\n",
    "import PIL.Image as Image\n",
    "import os\n",
    "\n",
    "import matplotlib.pylab as plt\n",
    "\n",
    "import tensorflow as tf\n",
    "import tensorflow_hub as hub\n",
    "\n",
    "from tensorflow import keras\n",
    "from tensorflow.keras import layers\n",
    "from tensorflow.keras.models import Sequential"
   ]
  },
  {
   "cell_type": "code",
   "execution_count": 2,
   "id": "b6bf8526",
   "metadata": {},
   "outputs": [],
   "source": [
    "IMAGE_SHAPE=(224,224)"
   ]
  },
  {
   "cell_type": "code",
   "execution_count": 15,
   "id": "d008fb3a",
   "metadata": {},
   "outputs": [
    {
     "data": {
      "text/plain": [
       "PosixPath('/home/sanjana/Desktop/med_img/cervical-cancer2')"
      ]
     },
     "execution_count": 15,
     "metadata": {},
     "output_type": "execute_result"
    }
   ],
   "source": [
    "import pathlib\n",
    "data_dir=pathlib.Path(\"/home/sanjana/Desktop/med_img/cervical-cancer2\")\n",
    "data_dir"
   ]
  },
  {
   "cell_type": "code",
   "execution_count": 16,
   "id": "1a3c3ee9",
   "metadata": {},
   "outputs": [
    {
     "data": {
      "text/plain": [
       "2145"
      ]
     },
     "execution_count": 16,
     "metadata": {},
     "output_type": "execute_result"
    }
   ],
   "source": [
    "image_count=len(list(data_dir.glob('*/*jpg')))\n",
    "image_count"
   ]
  },
  {
   "cell_type": "code",
   "execution_count": 17,
   "id": "a1f56ea1",
   "metadata": {},
   "outputs": [],
   "source": [
    "lesions_dict={\n",
    "    'NILM': list(data_dir.glob('NILM/*')),\n",
    "    'LSIL': list(data_dir.glob('LSIL_new/*')),\n",
    "    'HSIL': list(data_dir.glob('HSIL_new/*')),\n",
    "    'SCC': list(data_dir.glob('SCC_new/*')),\n",
    "}"
   ]
  },
  {
   "cell_type": "code",
   "execution_count": 18,
   "id": "e7294471",
   "metadata": {},
   "outputs": [],
   "source": [
    "lesions_dict_test={\n",
    "    'NILM-test': list(data_dir.glob('NILM_test/*')),\n",
    "    'LSIL-test': list(data_dir.glob('LSIL_test/*')),\n",
    "    'HSIL-test': list(data_dir.glob('HSIL_test/*')),\n",
    "    'SCC-test': list(data_dir.glob('SCC_test/*')),\n",
    "}"
   ]
  },
  {
   "cell_type": "code",
   "execution_count": null,
   "id": "a79d19f0",
   "metadata": {},
   "outputs": [],
   "source": []
  },
  {
   "cell_type": "code",
   "execution_count": 19,
   "id": "4605c37a",
   "metadata": {},
   "outputs": [],
   "source": [
    "lesions_labels={\n",
    "    'NILM': 0,\n",
    "    'LSIL': 1,\n",
    "    'HSIL': 2,\n",
    "    'SCC': 3,\n",
    "}"
   ]
  },
  {
   "cell_type": "code",
   "execution_count": 20,
   "id": "8aba7100",
   "metadata": {},
   "outputs": [],
   "source": [
    "lesions_labels_test={\n",
    "    'NILM-test': 0,\n",
    "    'LSIL-test': 1,\n",
    "    'HSIL-test': 2,\n",
    "    'SCC-test': 3,\n",
    "}"
   ]
  },
  {
   "cell_type": "code",
   "execution_count": 21,
   "id": "377548f4",
   "metadata": {},
   "outputs": [],
   "source": [
    "x, y=[],[]\n",
    "for lesions_name, images in lesions_dict.items():\n",
    "    for image in images:\n",
    "        img=cv2.imread(str(image))\n",
    "        x.append(img)\n",
    "        y.append(lesions_labels[lesions_name])"
   ]
  },
  {
   "cell_type": "code",
   "execution_count": 22,
   "id": "f2adf2cf",
   "metadata": {},
   "outputs": [],
   "source": [
    "x_test=[]\n",
    "y_test=[]\n",
    "for lesions_name, images in lesions_dict_test.items():\n",
    "    for image in images:\n",
    "        img=cv2.imread(str(image))\n",
    "        x_test.append(img)\n",
    "        y_test.append(lesions_labels_test[lesions_name])"
   ]
  },
  {
   "cell_type": "code",
   "execution_count": 23,
   "id": "b2cc20b1",
   "metadata": {},
   "outputs": [],
   "source": [
    "x=np.array(x)\n",
    "y=np.array(y)"
   ]
  },
  {
   "cell_type": "code",
   "execution_count": 24,
   "id": "a5f9f8de",
   "metadata": {},
   "outputs": [],
   "source": [
    "x_test=np.array(x_test)\n",
    "y_test=np.array(y_test)"
   ]
  },
  {
   "cell_type": "code",
   "execution_count": 25,
   "id": "c5d01d84",
   "metadata": {},
   "outputs": [],
   "source": [
    "from sklearn.model_selection import train_test_split\n",
    "x_test, x_val, y_test, y_val = train_test_split(x_test, y_test, test_size=0.5, random_state=1, shuffle=True)\n"
   ]
  },
  {
   "cell_type": "code",
   "execution_count": null,
   "id": "6ed10193",
   "metadata": {},
   "outputs": [],
   "source": []
  },
  {
   "cell_type": "code",
   "execution_count": 26,
   "id": "2681f55a",
   "metadata": {},
   "outputs": [
    {
     "name": "stdout",
     "output_type": "stream",
     "text": [
      "1200\n",
      "123\n",
      "122\n"
     ]
    }
   ],
   "source": [
    "x_train_scaled=x/255\n",
    "x_test_scaled=x_test/255\n",
    "x_val_scaled=x_val/255\n",
    "print(len(x_train_scaled))\n",
    "print(len(x_val_scaled))\n",
    "print(len(x_test_scaled))"
   ]
  },
  {
   "cell_type": "code",
   "execution_count": 27,
   "id": "db3700d2",
   "metadata": {},
   "outputs": [],
   "source": [
    "y_train=y"
   ]
  },
  {
   "cell_type": "code",
   "execution_count": null,
   "id": "08b552e7",
   "metadata": {},
   "outputs": [],
   "source": []
  },
  {
   "cell_type": "code",
   "execution_count": 28,
   "id": "f50e2d2e",
   "metadata": {},
   "outputs": [],
   "source": [
    "classifier=\"https://tfhub.dev/google/efficientnet/b0/feature-vector/1\"\n",
    "mod=hub.KerasLayer(classifier, input_shape=(224,224,3), trainable=False)"
   ]
  },
  {
   "cell_type": "code",
   "execution_count": 29,
   "id": "f3322d74",
   "metadata": {},
   "outputs": [],
   "source": [
    "from sklearn.model_selection import KFold"
   ]
  },
  {
   "cell_type": "code",
   "execution_count": null,
   "id": "f8bbabb0",
   "metadata": {},
   "outputs": [],
   "source": []
  },
  {
   "cell_type": "code",
   "execution_count": 30,
   "id": "c0611d0a",
   "metadata": {},
   "outputs": [],
   "source": [
    "from tensorflow.python.keras.callbacks import EarlyStopping\n",
    "es = EarlyStopping(monitor='loss', mode='min', verbose=1, patience=2)"
   ]
  },
  {
   "cell_type": "code",
   "execution_count": null,
   "id": "0fa7e00e",
   "metadata": {},
   "outputs": [],
   "source": []
  },
  {
   "cell_type": "code",
   "execution_count": null,
   "id": "3edac13c",
   "metadata": {},
   "outputs": [],
   "source": []
  },
  {
   "cell_type": "code",
   "execution_count": 31,
   "id": "d92f6799",
   "metadata": {},
   "outputs": [
    {
     "name": "stdout",
     "output_type": "stream",
     "text": [
      "------------------------------------------------------------------------\n",
      "Training for fold 1 ...\n",
      "Epoch 1/10\n",
      "60/60 [==============================] - 39s 516ms/step - loss: 0.3158 - acc: 0.8733\n",
      "Epoch 2/10\n",
      "60/60 [==============================] - 31s 519ms/step - loss: 0.0694 - acc: 0.9858\n",
      "Epoch 3/10\n",
      "60/60 [==============================] - 31s 517ms/step - loss: 0.0436 - acc: 0.9917\n",
      "Epoch 4/10\n",
      "60/60 [==============================] - 31s 519ms/step - loss: 0.0260 - acc: 0.9950\n",
      "Epoch 5/10\n",
      "60/60 [==============================] - 31s 521ms/step - loss: 0.0298 - acc: 0.9917\n",
      "Epoch 6/10\n",
      "60/60 [==============================] - 32s 525ms/step - loss: 0.0225 - acc: 0.9925\n",
      "Epoch 7/10\n",
      "60/60 [==============================] - 31s 519ms/step - loss: 0.0090 - acc: 0.9992\n",
      "Epoch 8/10\n",
      "60/60 [==============================] - 31s 521ms/step - loss: 0.0084 - acc: 0.9992\n",
      "Epoch 9/10\n",
      "60/60 [==============================] - 31s 518ms/step - loss: 0.0056 - acc: 0.9992\n",
      "Epoch 10/10\n",
      "60/60 [==============================] - 32s 527ms/step - loss: 0.0061 - acc: 0.9992\n",
      "Score for fold (validation data) 1: loss of 0.004340635612607002; acc of 100.0%\n",
      "------------------------------------------------------------------------\n",
      "Training for fold 2 ...\n",
      "Epoch 1/10\n",
      "60/60 [==============================] - 38s 518ms/step - loss: 0.3088 - acc: 0.8917\n",
      "Epoch 2/10\n",
      "60/60 [==============================] - 31s 521ms/step - loss: 0.0741 - acc: 0.9808\n",
      "Epoch 3/10\n",
      "60/60 [==============================] - 31s 514ms/step - loss: 0.0455 - acc: 0.9858\n",
      "Epoch 4/10\n",
      "60/60 [==============================] - 31s 515ms/step - loss: 0.0273 - acc: 0.9925\n",
      "Epoch 5/10\n",
      "60/60 [==============================] - 31s 515ms/step - loss: 0.0188 - acc: 0.9975\n",
      "Epoch 6/10\n",
      "60/60 [==============================] - 31s 518ms/step - loss: 0.0142 - acc: 0.9975\n",
      "Epoch 7/10\n",
      "60/60 [==============================] - 31s 515ms/step - loss: 0.0095 - acc: 0.9983\n",
      "Epoch 8/10\n",
      "60/60 [==============================] - 31s 520ms/step - loss: 0.0075 - acc: 0.9992\n",
      "Epoch 9/10\n",
      "60/60 [==============================] - 31s 515ms/step - loss: 0.0080 - acc: 0.9983\n",
      "Epoch 10/10\n",
      "60/60 [==============================] - 31s 514ms/step - loss: 0.0044 - acc: 1.0000\n",
      "Score for fold (validation data) 2: loss of 0.003594692563638091; acc of 100.0%\n"
     ]
    }
   ],
   "source": [
    "import matplotlib.pyplot as plt\n",
    "acc_per_fold=[]\n",
    "loss_per_fold=[]\n",
    "num_lesions=4\n",
    "# Define the K-fold Cross Validator\n",
    "kfold = KFold(n_splits=2, shuffle=True)\n",
    "\n",
    "# K-fold Cross Validation model evaluation\n",
    "fold_no = 1\n",
    "for train, test in kfold.split(x_train_scaled, y_train):\n",
    "    model=tf.keras.Sequential([\n",
    "        mod, \n",
    "        tf.keras.layers.Dense(256, activation=\"relu\"),\n",
    "        tf.keras.layers.Dense(num_lesions)\n",
    "    ])\n",
    "\n",
    "    model.compile(\n",
    "        optimizer=\"adam\", \n",
    "        loss=tf.keras.losses.SparseCategoricalCrossentropy(from_logits=True),\n",
    "        metrics=['acc'])\n",
    "    print('------------------------------------------------------------------------')\n",
    "    print(f'Training for fold {fold_no} ...')\n",
    "    history = model.fit(x_train_scaled, y_train, batch_size=20,epochs=10,callbacks = es)\n",
    "    \n",
    "    scores = model.evaluate(x_val_scaled, y_val, verbose=0)\n",
    "    print(f'Score for fold (validation data) {fold_no}: {model.metrics_names[0]} of {scores[0]}; {model.metrics_names[1]} of {scores[1]*100}%')\n",
    "    acc_per_fold.append(scores[1] * 100)\n",
    "    loss_per_fold.append(scores[0])\n",
    "    fold_no = fold_no + 1"
   ]
  },
  {
   "cell_type": "code",
   "execution_count": null,
   "id": "6c28ea40",
   "metadata": {},
   "outputs": [],
   "source": []
  },
  {
   "cell_type": "code",
   "execution_count": 32,
   "id": "38b45aa7",
   "metadata": {},
   "outputs": [
    {
     "data": {
      "image/png": "[encoded data removed]",
      "text/plain": [
       "<Figure size 432x288 with 1 Axes>"
      ]
     },
     "metadata": {
      "needs_background": "light"
     },
     "output_type": "display_data"
    },
    {
     "data": {
      "image/png": "[encoded data removed]",
      "text/plain": [
       "<Figure size 432x288 with 1 Axes>"
      ]
     },
     "metadata": {
      "needs_background": "light"
     },
     "output_type": "display_data"
    }
   ],
   "source": [
    "plt.plot(history.history['acc'])\n",
    "plt.title('model accuracy')\n",
    "plt.ylabel('accuracy')\n",
    "plt.xlabel('epoch')\n",
    "plt.legend(['train'], loc='upper left')\n",
    "plt.show()\n",
    "# summarize history for loss\n",
    "plt.plot(history.history['loss'])\n",
    "plt.title('model loss')\n",
    "plt.ylabel('loss')\n",
    "plt.xlabel('epoch')\n",
    "plt.legend(['train'], loc='upper left')\n",
    "plt.show()"
   ]
  },
  {
   "cell_type": "code",
   "execution_count": 33,
   "id": "1622eff5",
   "metadata": {},
   "outputs": [
    {
     "name": "stdout",
     "output_type": "stream",
     "text": [
      "4/4 [==============================] - 5s 799ms/step - loss: 0.0208 - acc: 0.9918\n"
     ]
    },
    {
     "data": {
      "text/plain": [
       "[0.02080230787396431, 0.9918032884597778]"
      ]
     },
     "execution_count": 33,
     "metadata": {},
     "output_type": "execute_result"
    }
   ],
   "source": [
    "model.evaluate(x_test_scaled, y_test)"
   ]
  },
  {
   "cell_type": "code",
   "execution_count": 34,
   "id": "aab26612",
   "metadata": {},
   "outputs": [
    {
     "data": {
      "text/plain": [
       "array([2, 3, 2, 2, 0, 1, 1, 1, 0, 2, 1, 0, 3, 0, 0, 2, 3, 2, 1, 0, 1, 3,\n",
       "       2, 0, 2, 0, 2, 2, 0, 0, 0, 1, 0, 0, 0, 2, 0, 1, 2, 0, 1, 0, 1, 0,\n",
       "       2, 1, 1, 0, 1, 0, 1, 0, 2, 0, 1, 2, 1, 0, 3, 0, 0, 0, 2, 0, 0, 0,\n",
       "       0, 0, 0, 0, 0, 2, 0, 1, 1, 3, 0, 1, 2, 0, 2, 0, 0, 1, 0, 0, 0, 0,\n",
       "       0, 0, 3, 1, 0, 0, 2, 2, 0, 0, 1, 1, 1, 1, 2, 1, 0, 0, 2, 0, 1, 0,\n",
       "       2, 1, 1, 2, 0, 1, 2, 1, 0, 1, 2, 0])"
      ]
     },
     "execution_count": 34,
     "metadata": {},
     "output_type": "execute_result"
    }
   ],
   "source": [
    "preds=model.predict(x_test_scaled)\n",
    "pred_classes=np.argmax(preds, axis=1)\n",
    "pred_classes"
   ]
  },
  {
   "cell_type": "code",
   "execution_count": 35,
   "id": "425d7f40",
   "metadata": {},
   "outputs": [
    {
     "name": "stderr",
     "output_type": "stream",
     "text": [
      "/home/sanjana/anaconda3/lib/python3.7/site-packages/sklearn/utils/validation.py:72: FutureWarning: Pass labels=[0, 1, 2, 3] as keyword args. From version 1.0 (renaming of 0.25) passing these as positional arguments will result in an error\n",
      "  \"will result in an error\", FutureWarning)\n"
     ]
    },
    {
     "name": "stdout",
     "output_type": "stream",
     "text": [
      "              precision    recall  f1-score   support\n",
      "\n",
      "           0       1.00      1.00      1.00        56\n",
      "           1       1.00      1.00      1.00        32\n",
      "           2       0.96      1.00      0.98        26\n",
      "           3       1.00      0.88      0.93         8\n",
      "\n",
      "    accuracy                           0.99       122\n",
      "   macro avg       0.99      0.97      0.98       122\n",
      "weighted avg       0.99      0.99      0.99       122\n",
      "\n"
     ]
    },
    {
     "data": {
      "text/plain": [
       "array([[56,  0,  0,  0],\n",
       "       [ 0, 32,  0,  0],\n",
       "       [ 0,  0, 26,  0],\n",
       "       [ 0,  0,  1,  7]])"
      ]
     },
     "execution_count": 35,
     "metadata": {},
     "output_type": "execute_result"
    }
   ],
   "source": [
    "class_labels=[0,1,2,3]\n",
    "import sklearn.metrics as metrics\n",
    "report = metrics.classification_report(y_test, pred_classes, class_labels)\n",
    "print(report) \n",
    "from sklearn.metrics import confusion_matrix\n",
    "confusion_matrix(y_test, pred_classes)"
   ]
  },
  {
   "cell_type": "code",
   "execution_count": null,
   "id": "d36dabcb",
   "metadata": {},
   "outputs": [],
   "source": []
  }
 ],
 "metadata": {
  "kernelspec": {
   "display_name": "Python 3",
   "language": "python",
   "name": "python3"
  },
  "language_info": {
   "codemirror_mode": {
    "name": "ipython",
    "version": 3
   },
   "file_extension": ".py",
   "mimetype": "text/x-python",
   "name": "python",
   "nbconvert_exporter": "python",
   "pygments_lexer": "ipython3",
   "version": "3.7.3"
  }
 },
 "nbformat": 4,
 "nbformat_minor": 5
}
