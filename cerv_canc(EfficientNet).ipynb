{
 "cells": [
  {
   "cell_type": "code",
   "execution_count": 22,
   "id": "dd3c114a",
   "metadata": {},
   "outputs": [],
   "source": [
    "import numpy as np\n",
    "import cv2\n",
    "\n",
    "import PIL.Image as Image\n",
    "import os\n",
    "\n",
    "import matplotlib.pylab as plt\n",
    "\n",
    "import tensorflow as tf\n",
    "import tensorflow_hub as hub\n",
    "\n",
    "from tensorflow import keras\n",
    "from tensorflow.keras import layers\n",
    "from tensorflow.keras.models import Sequential"
   ]
  },
  {
   "cell_type": "code",
   "execution_count": 23,
   "id": "b6bf8526",
   "metadata": {},
   "outputs": [],
   "source": [
    "IMAGE_SHAPE=(224,224)"
   ]
  },
  {
   "cell_type": "code",
   "execution_count": 24,
   "id": "d008fb3a",
   "metadata": {},
   "outputs": [
    {
     "data": {
      "text/plain": [
       "PosixPath('/home/sanjana/Desktop/med_img/cervical-cancer2')"
      ]
     },
     "execution_count": 24,
     "metadata": {},
     "output_type": "execute_result"
    }
   ],
   "source": [
    "import pathlib\n",
    "data_dir=pathlib.Path(\"/home/sanjana/Desktop/med_img/cervical-cancer2\")\n",
    "data_dir"
   ]
  },
  {
   "cell_type": "code",
   "execution_count": 25,
   "id": "1a3c3ee9",
   "metadata": {},
   "outputs": [
    {
     "data": {
      "text/plain": [
       "1702"
      ]
     },
     "execution_count": 25,
     "metadata": {},
     "output_type": "execute_result"
    }
   ],
   "source": [
    "image_count=len(list(data_dir.glob('*/*jpg')))\n",
    "image_count"
   ]
  },
  {
   "cell_type": "code",
   "execution_count": 26,
   "id": "a1f56ea1",
   "metadata": {},
   "outputs": [],
   "source": [
    "lesions_dict={\n",
    "    'NILM': list(data_dir.glob('NILM/*')),\n",
    "    'LSIL': list(data_dir.glob('LSIL_new/*')),\n",
    "    'HSIL': list(data_dir.glob('HSIL_new/*')),\n",
    "    'SCC': list(data_dir.glob('SCC_new/*')),\n",
    "}"
   ]
  },
  {
   "cell_type": "code",
   "execution_count": 27,
   "id": "a79d19f0",
   "metadata": {},
   "outputs": [
    {
     "data": {
      "text/plain": [
       "612"
      ]
     },
     "execution_count": 27,
     "metadata": {},
     "output_type": "execute_result"
    }
   ],
   "source": [
    "len(lesions_dict['NILM'])"
   ]
  },
  {
   "cell_type": "code",
   "execution_count": 28,
   "id": "4605c37a",
   "metadata": {},
   "outputs": [],
   "source": [
    "lesions_labels={\n",
    "    'NILM': 0,\n",
    "    'LSIL': 1,\n",
    "    'HSIL': 2,\n",
    "    'SCC': 3,\n",
    "}"
   ]
  },
  {
   "cell_type": "code",
   "execution_count": 29,
   "id": "377548f4",
   "metadata": {},
   "outputs": [],
   "source": [
    "x, y=[],[]\n",
    "for lesions_name, images in lesions_dict.items():\n",
    "    for image in images:\n",
    "        img=cv2.imread(str(image))\n",
    "        x.append(img)\n",
    "        y.append(lesions_labels[lesions_name])"
   ]
  },
  {
   "cell_type": "code",
   "execution_count": 30,
   "id": "b2cc20b1",
   "metadata": {},
   "outputs": [],
   "source": [
    "x=np.array(x)\n",
    "y=np.array(y)"
   ]
  },
  {
   "cell_type": "code",
   "execution_count": null,
   "id": "a5f9f8de",
   "metadata": {},
   "outputs": [],
   "source": []
  },
  {
   "cell_type": "code",
   "execution_count": 31,
   "id": "c5d01d84",
   "metadata": {},
   "outputs": [],
   "source": [
    "from sklearn.model_selection import train_test_split\n",
    "x_train, x_test, y_train, y_test = train_test_split(x, y, test_size=0.2, random_state=1, shuffle=True)\n",
    "\n",
    "x_train, x_val, y_train, y_val = train_test_split(x_train, y_train, test_size=0.25, random_state=1) # 0.25 x 0.8 = 0.2"
   ]
  },
  {
   "cell_type": "code",
   "execution_count": 32,
   "id": "2681f55a",
   "metadata": {},
   "outputs": [
    {
     "name": "stdout",
     "output_type": "stream",
     "text": [
      "810\n",
      "271\n",
      "271\n"
     ]
    }
   ],
   "source": [
    "x_train_scaled=x_train/255\n",
    "x_test_scaled=x_test/255\n",
    "x_val_scaled=x_val/255\n",
    "print(len(x_train_scaled))\n",
    "print(len(x_val_scaled))\n",
    "print(len(x_test_scaled))"
   ]
  },
  {
   "cell_type": "code",
   "execution_count": null,
   "id": "db3700d2",
   "metadata": {},
   "outputs": [],
   "source": []
  },
  {
   "cell_type": "code",
   "execution_count": null,
   "id": "08b552e7",
   "metadata": {},
   "outputs": [],
   "source": []
  },
  {
   "cell_type": "code",
   "execution_count": 33,
   "id": "f50e2d2e",
   "metadata": {},
   "outputs": [],
   "source": [
    "classifier=\"https://tfhub.dev/tensorflow/efficientnet/lite0/feature-vector/2\"\n",
    "mod=hub.KerasLayer(classifier, input_shape=(224,224,3), trainable=False)"
   ]
  },
  {
   "cell_type": "code",
   "execution_count": 34,
   "id": "f3322d74",
   "metadata": {},
   "outputs": [],
   "source": [
    "from sklearn.model_selection import KFold"
   ]
  },
  {
   "cell_type": "code",
   "execution_count": null,
   "id": "0fa7e00e",
   "metadata": {},
   "outputs": [],
   "source": []
  },
  {
   "cell_type": "code",
   "execution_count": 35,
   "id": "f8bbabb0",
   "metadata": {},
   "outputs": [],
   "source": [
    "num_lesions=4\n",
    "\n"
   ]
  },
  {
   "cell_type": "code",
   "execution_count": 36,
   "id": "c0611d0a",
   "metadata": {},
   "outputs": [],
   "source": [
    "from tensorflow.python.keras.callbacks import EarlyStopping\n",
    "es = EarlyStopping(monitor='loss', mode='min', verbose=1, patience=3)"
   ]
  },
  {
   "cell_type": "code",
   "execution_count": 37,
   "id": "d92f6799",
   "metadata": {},
   "outputs": [
    {
     "name": "stdout",
     "output_type": "stream",
     "text": [
      "------------------------------------------------------------------------\n",
      "Training for fold 1 ...\n",
      "Epoch 1/10\n",
      "27/27 [==============================] - 14s 436ms/step - loss: 0.3704 - acc: 0.8568\n",
      "Epoch 2/10\n",
      "27/27 [==============================] - 12s 445ms/step - loss: 0.0640 - acc: 0.9840\n",
      "Epoch 3/10\n",
      "27/27 [==============================] - 12s 449ms/step - loss: 0.0412 - acc: 0.9840\n",
      "Epoch 4/10\n",
      "27/27 [==============================] - 12s 443ms/step - loss: 0.0120 - acc: 0.9963\n",
      "Epoch 5/10\n",
      "27/27 [==============================] - 12s 438ms/step - loss: 0.0028 - acc: 1.0000\n",
      "Epoch 6/10\n",
      "27/27 [==============================] - 12s 448ms/step - loss: 0.0016 - acc: 1.0000\n",
      "Epoch 7/10\n",
      "27/27 [==============================] - 12s 459ms/step - loss: 8.4512e-04 - acc: 1.0000\n",
      "Epoch 8/10\n",
      "27/27 [==============================] - 12s 449ms/step - loss: 6.3221e-04 - acc: 1.0000\n",
      "Epoch 9/10\n",
      "27/27 [==============================] - 12s 452ms/step - loss: 3.8240e-04 - acc: 1.0000\n",
      "Epoch 10/10\n",
      "27/27 [==============================] - 12s 453ms/step - loss: 2.7835e-04 - acc: 1.0000\n",
      "Score for fold 1: loss of 0.030789868906140327; acc of 98.89298677444458%\n",
      "------------------------------------------------------------------------\n",
      "Training for fold 2 ...\n",
      "Epoch 1/10\n",
      "27/27 [==============================] - 13s 445ms/step - loss: 0.3476 - acc: 0.8617\n",
      "Epoch 2/10\n",
      "27/27 [==============================] - 12s 460ms/step - loss: 0.0756 - acc: 0.9716\n",
      "Epoch 3/10\n",
      "27/27 [==============================] - 13s 469ms/step - loss: 0.0290 - acc: 0.9877\n",
      "Epoch 4/10\n",
      "27/27 [==============================] - 12s 458ms/step - loss: 0.0203 - acc: 0.9951\n",
      "Epoch 5/10\n",
      "27/27 [==============================] - 12s 452ms/step - loss: 0.0169 - acc: 0.9951\n",
      "Epoch 6/10\n",
      "27/27 [==============================] - 12s 455ms/step - loss: 0.0227 - acc: 0.9914\n",
      "Epoch 7/10\n",
      "27/27 [==============================] - 13s 468ms/step - loss: 0.0032 - acc: 1.0000\n",
      "Epoch 8/10\n",
      "27/27 [==============================] - 12s 461ms/step - loss: 6.4394e-04 - acc: 1.0000\n",
      "Epoch 9/10\n",
      "27/27 [==============================] - 12s 456ms/step - loss: 4.1018e-04 - acc: 1.0000\n",
      "Epoch 10/10\n",
      "27/27 [==============================] - 12s 450ms/step - loss: 3.2338e-04 - acc: 1.0000\n",
      "Score for fold 2: loss of 0.017492741346359253; acc of 98.89298677444458%\n",
      "------------------------------------------------------------------------\n",
      "Training for fold 3 ...\n",
      "Epoch 1/10\n",
      "27/27 [==============================] - 13s 437ms/step - loss: 0.4036 - acc: 0.8407\n",
      "Epoch 2/10\n",
      "27/27 [==============================] - 12s 454ms/step - loss: 0.0936 - acc: 0.9654\n",
      "Epoch 3/10\n",
      "27/27 [==============================] - 13s 464ms/step - loss: 0.0757 - acc: 0.9617\n",
      "Epoch 4/10\n",
      "27/27 [==============================] - 12s 460ms/step - loss: 0.0434 - acc: 0.9827\n",
      "Epoch 5/10\n",
      "27/27 [==============================] - 12s 446ms/step - loss: 0.0109 - acc: 0.9988\n",
      "Epoch 6/10\n",
      "27/27 [==============================] - 13s 476ms/step - loss: 0.0043 - acc: 0.9988\n",
      "Epoch 7/10\n",
      "27/27 [==============================] - 12s 459ms/step - loss: 0.0034 - acc: 0.9988\n",
      "Epoch 8/10\n",
      "27/27 [==============================] - 12s 461ms/step - loss: 0.0014 - acc: 1.0000\n",
      "Epoch 9/10\n",
      "27/27 [==============================] - 12s 454ms/step - loss: 7.5083e-04 - acc: 1.0000\n",
      "Epoch 10/10\n",
      "27/27 [==============================] - 12s 444ms/step - loss: 4.7530e-04 - acc: 1.0000\n",
      "Score for fold 3: loss of 0.024073589593172073; acc of 99.26199316978455%\n"
     ]
    }
   ],
   "source": [
    "import matplotlib.pyplot as plt\n",
    "acc_per_fold=[]\n",
    "loss_per_fold=[]\n",
    "# Define the K-fold Cross Validator\n",
    "kfold = KFold(n_splits=3, shuffle=True)\n",
    "\n",
    "# K-fold Cross Validation model evaluation\n",
    "fold_no = 1\n",
    "for train, test in kfold.split(x_train_scaled, y_train):\n",
    "    model=tf.keras.Sequential([\n",
    "        mod, \n",
    "        tf.keras.layers.Dense(1024, activation=\"relu\"),\n",
    "        tf.keras.layers.Dense(512, activation=\"relu\"),\n",
    "        tf.keras.layers.Dense(num_lesions)\n",
    "    ])\n",
    "\n",
    "    model.compile(\n",
    "        optimizer=\"adam\", \n",
    "        loss=tf.keras.losses.SparseCategoricalCrossentropy(from_logits=True),\n",
    "        metrics=['acc'])\n",
    "    print('------------------------------------------------------------------------')\n",
    "    print(f'Training for fold {fold_no} ...')\n",
    "    history = model.fit(x_train_scaled, y_train, batch_size=20,epochs=10,callbacks = es)\n",
    "    \n",
    "    scores = model.evaluate(x_val_scaled, y_val, verbose=0)\n",
    "    print(f'Score for fold {fold_no}: {model.metrics_names[0]} of {scores[0]}; {model.metrics_names[1]} of {scores[1]*100}%')\n",
    "    acc_per_fold.append(scores[1] * 100)\n",
    "    loss_per_fold.append(scores[0])\n",
    "    fold_no = fold_no + 1"
   ]
  },
  {
   "cell_type": "code",
   "execution_count": 38,
   "id": "38b45aa7",
   "metadata": {},
   "outputs": [
    {
     "ename": "KeyError",
     "evalue": "'val_acc'",
     "output_type": "error",
     "traceback": [
      "\u001b[0;31m---------------------------------------------------------------------------\u001b[0m",
      "\u001b[0;31mKeyError\u001b[0m                                  Traceback (most recent call last)",
      "\u001b[0;32m<ipython-input-38-2661688c08ef>\u001b[0m in \u001b[0;36m<module>\u001b[0;34m\u001b[0m\n\u001b[1;32m      1\u001b[0m \u001b[0mplt\u001b[0m\u001b[0;34m.\u001b[0m\u001b[0mplot\u001b[0m\u001b[0;34m(\u001b[0m\u001b[0mhistory\u001b[0m\u001b[0;34m.\u001b[0m\u001b[0mhistory\u001b[0m\u001b[0;34m[\u001b[0m\u001b[0;34m'acc'\u001b[0m\u001b[0;34m]\u001b[0m\u001b[0;34m)\u001b[0m\u001b[0;34m\u001b[0m\u001b[0;34m\u001b[0m\u001b[0m\n\u001b[0;32m----> 2\u001b[0;31m \u001b[0mplt\u001b[0m\u001b[0;34m.\u001b[0m\u001b[0mplot\u001b[0m\u001b[0;34m(\u001b[0m\u001b[0mhistory\u001b[0m\u001b[0;34m.\u001b[0m\u001b[0mhistory\u001b[0m\u001b[0;34m[\u001b[0m\u001b[0;34m'val_acc'\u001b[0m\u001b[0;34m]\u001b[0m\u001b[0;34m)\u001b[0m\u001b[0;34m\u001b[0m\u001b[0;34m\u001b[0m\u001b[0m\n\u001b[0m\u001b[1;32m      3\u001b[0m \u001b[0mplt\u001b[0m\u001b[0;34m.\u001b[0m\u001b[0mtitle\u001b[0m\u001b[0;34m(\u001b[0m\u001b[0;34m'model accuracy'\u001b[0m\u001b[0;34m)\u001b[0m\u001b[0;34m\u001b[0m\u001b[0;34m\u001b[0m\u001b[0m\n\u001b[1;32m      4\u001b[0m \u001b[0mplt\u001b[0m\u001b[0;34m.\u001b[0m\u001b[0mylabel\u001b[0m\u001b[0;34m(\u001b[0m\u001b[0;34m'accuracy'\u001b[0m\u001b[0;34m)\u001b[0m\u001b[0;34m\u001b[0m\u001b[0;34m\u001b[0m\u001b[0m\n\u001b[1;32m      5\u001b[0m \u001b[0mplt\u001b[0m\u001b[0;34m.\u001b[0m\u001b[0mxlabel\u001b[0m\u001b[0;34m(\u001b[0m\u001b[0;34m'epoch'\u001b[0m\u001b[0;34m)\u001b[0m\u001b[0;34m\u001b[0m\u001b[0;34m\u001b[0m\u001b[0m\n",
      "\u001b[0;31mKeyError\u001b[0m: 'val_acc'"
     ]
    },
    {
     "data": {
      "image/png": "[encoded data removed]",
      "text/plain": [
       "<Figure size 432x288 with 1 Axes>"
      ]
     },
     "metadata": {
      "needs_background": "light"
     },
     "output_type": "display_data"
    }
   ],
   "source": [
    "plt.plot(history.history['acc'])\n",
    "plt.plot(history.history['val_acc'])\n",
    "plt.title('model accuracy')\n",
    "plt.ylabel('accuracy')\n",
    "plt.xlabel('epoch')\n",
    "plt.legend(['train', 'test'], loc='upper left')\n",
    "plt.show()\n",
    "# summarize history for loss\n",
    "plt.plot(history.history['loss'])\n",
    "plt.plot(history.history['val_loss'])\n",
    "plt.title('model loss')\n",
    "plt.ylabel('loss')\n",
    "plt.xlabel('epoch')\n",
    "plt.legend(['train', 'test'], loc='upper left')\n",
    "plt.show()"
   ]
  },
  {
   "cell_type": "code",
   "execution_count": 39,
   "id": "1622eff5",
   "metadata": {},
   "outputs": [
    {
     "name": "stdout",
     "output_type": "stream",
     "text": [
      "9/9 [==============================] - 4s 459ms/step - loss: 0.0694 - acc: 0.9668\n"
     ]
    },
    {
     "data": {
      "text/plain": [
       "[0.06939516961574554, 0.9667896628379822]"
      ]
     },
     "execution_count": 39,
     "metadata": {},
     "output_type": "execute_result"
    }
   ],
   "source": [
    "model.evaluate(x_test_scaled, y_test)"
   ]
  },
  {
   "cell_type": "code",
   "execution_count": 40,
   "id": "aab26612",
   "metadata": {},
   "outputs": [
    {
     "data": {
      "text/plain": [
       "array([1, 1, 0, 0, 2, 3, 3, 0, 3, 0, 2, 2, 0, 2, 3, 0, 2, 1, 2, 2, 1, 2,\n",
       "       1, 0, 0, 0, 1, 1, 0, 1, 0, 0, 3, 3, 3, 3, 3, 3, 0, 0, 0, 2, 0, 0,\n",
       "       0, 1, 1, 1, 0, 0, 3, 1, 3, 3, 3, 0, 0, 0, 1, 2, 1, 1, 2, 1, 0, 0,\n",
       "       3, 3, 3, 3, 2, 3, 3, 1, 0, 3, 2, 0, 0, 0, 1, 1, 0, 3, 3, 3, 0, 3,\n",
       "       1, 2, 3, 0, 3, 2, 0, 3, 0, 3, 3, 2, 0, 2, 3, 2, 0, 1, 1, 0, 2, 1,\n",
       "       0, 0, 0, 0, 0, 1, 0, 0, 1, 0, 0, 0, 0, 0, 0, 3, 0, 2, 1, 0, 0, 1,\n",
       "       1, 3, 0, 3, 3, 0, 1, 1, 0, 1, 2, 0, 0, 1, 0, 0, 0, 0, 0, 3, 2, 0,\n",
       "       3, 2, 0, 3, 3, 3, 0, 0, 2, 0, 2, 0, 0, 3, 2, 2, 2, 0, 1, 0, 3, 0,\n",
       "       3, 1, 0, 0, 0, 0, 1, 0, 2, 0, 3, 2, 2, 0, 1, 3, 0, 0, 0, 0, 2, 3,\n",
       "       1, 0, 0, 0, 1, 0, 2, 0, 3, 1, 2, 3, 3, 0, 0, 0, 1, 0, 0, 2, 3, 0,\n",
       "       1, 1, 3, 2, 0, 0, 1, 3, 0, 0, 3, 2, 0, 1, 1, 3, 0, 0, 1, 0, 2, 0,\n",
       "       0, 2, 1, 0, 0, 0, 0, 0, 3, 0, 0, 2, 0, 0, 2, 0, 0, 1, 1, 0, 0, 1,\n",
       "       3, 0, 0, 0, 0, 2, 0])"
      ]
     },
     "execution_count": 40,
     "metadata": {},
     "output_type": "execute_result"
    }
   ],
   "source": [
    "preds=model.predict(x_test_scaled)\n",
    "pred_classes=np.argmax(preds, axis=1)\n",
    "pred_classes"
   ]
  },
  {
   "cell_type": "code",
   "execution_count": 41,
   "id": "425d7f40",
   "metadata": {},
   "outputs": [
    {
     "name": "stdout",
     "output_type": "stream",
     "text": [
      "              precision    recall  f1-score   support\n",
      "\n",
      "           0       1.00      0.97      0.98       127\n",
      "           1       0.94      1.00      0.97        47\n",
      "           2       0.86      0.92      0.89        39\n",
      "           3       1.00      0.97      0.98        58\n",
      "\n",
      "    accuracy                           0.97       271\n",
      "   macro avg       0.95      0.96      0.96       271\n",
      "weighted avg       0.97      0.97      0.97       271\n",
      "\n"
     ]
    },
    {
     "name": "stderr",
     "output_type": "stream",
     "text": [
      "/home/sanjana/anaconda3/lib/python3.7/site-packages/sklearn/utils/validation.py:72: FutureWarning: Pass labels=[0, 1, 2, 3] as keyword args. From version 1.0 (renaming of 0.25) passing these as positional arguments will result in an error\n",
      "  \"will result in an error\", FutureWarning)\n"
     ]
    },
    {
     "data": {
      "text/plain": [
       "array([[123,   0,   4,   0],\n",
       "       [  0,  47,   0,   0],\n",
       "       [  0,   3,  36,   0],\n",
       "       [  0,   0,   2,  56]])"
      ]
     },
     "execution_count": 41,
     "metadata": {},
     "output_type": "execute_result"
    }
   ],
   "source": [
    "class_labels=[0,1,2,3]\n",
    "import sklearn.metrics as metrics\n",
    "report = metrics.classification_report(y_test, pred_classes, class_labels)\n",
    "print(report) \n",
    "from sklearn.metrics import confusion_matrix\n",
    "confusion_matrix(y_test, pred_classes)"
   ]
  },
  {
   "cell_type": "code",
   "execution_count": null,
   "id": "d36dabcb",
   "metadata": {},
   "outputs": [],
   "source": []
  }
 ],
 "metadata": {
  "kernelspec": {
   "display_name": "Python 3",
   "language": "python",
   "name": "python3"
  },
  "language_info": {
   "codemirror_mode": {
    "name": "ipython",
    "version": 3
   },
   "file_extension": ".py",
   "mimetype": "text/x-python",
   "name": "python",
   "nbconvert_exporter": "python",
   "pygments_lexer": "ipython3",
   "version": "3.7.3"
  }
 },
 "nbformat": 4,
 "nbformat_minor": 5
}
